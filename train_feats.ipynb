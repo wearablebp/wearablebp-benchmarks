{
 "cells": [
  {
   "cell_type": "code",
   "execution_count": 1,
   "id": "c8d861dc",
   "metadata": {},
   "outputs": [],
   "source": [
    "from sklearn.ensemble import RandomForestRegressor, AdaBoostRegressor\n",
    "from sklearn.linear_model import LinearRegression\n",
    "from sklearn import preprocessing\n",
    "from sklearn.tree import DecisionTreeRegressor\n",
    "import pandas as pd\n",
    "import numpy as np\n",
    "import matplotlib.pyplot as plt\n",
    "import random"
   ]
  },
  {
   "cell_type": "code",
   "execution_count": 12,
   "id": "ab5db830",
   "metadata": {
    "scrolled": true
   },
   "outputs": [
    {
     "name": "stderr",
     "output_type": "stream",
     "text": [
      "/opt/conda/lib/python3.8/site-packages/numpy/lib/nanfunctions.py:1544: RuntimeWarning: overflow encountered in multiply\n",
      "  sqr = np.multiply(arr, arr, out=arr)\n",
      "/opt/conda/lib/python3.8/site-packages/numpy/lib/nanfunctions.py:1544: RuntimeWarning: overflow encountered in multiply\n",
      "  sqr = np.multiply(arr, arr, out=arr)\n",
      "/opt/conda/lib/python3.8/site-packages/numpy/lib/nanfunctions.py:1544: RuntimeWarning: overflow encountered in multiply\n",
      "  sqr = np.multiply(arr, arr, out=arr)\n",
      "/opt/conda/lib/python3.8/site-packages/numpy/lib/nanfunctions.py:1544: RuntimeWarning: overflow encountered in multiply\n",
      "  sqr = np.multiply(arr, arr, out=arr)\n",
      "/opt/conda/lib/python3.8/site-packages/numpy/lib/nanfunctions.py:1544: RuntimeWarning: overflow encountered in multiply\n",
      "  sqr = np.multiply(arr, arr, out=arr)\n",
      "/opt/conda/lib/python3.8/site-packages/numpy/lib/nanfunctions.py:1544: RuntimeWarning: overflow encountered in multiply\n",
      "  sqr = np.multiply(arr, arr, out=arr)\n",
      "/opt/conda/lib/python3.8/site-packages/numpy/lib/nanfunctions.py:1544: RuntimeWarning: overflow encountered in multiply\n",
      "  sqr = np.multiply(arr, arr, out=arr)\n",
      "/opt/conda/lib/python3.8/site-packages/numpy/lib/nanfunctions.py:1544: RuntimeWarning: overflow encountered in multiply\n",
      "  sqr = np.multiply(arr, arr, out=arr)\n",
      "/opt/conda/lib/python3.8/site-packages/numpy/lib/nanfunctions.py:1544: RuntimeWarning: overflow encountered in multiply\n",
      "  sqr = np.multiply(arr, arr, out=arr)\n",
      "/opt/conda/lib/python3.8/site-packages/numpy/lib/nanfunctions.py:1544: RuntimeWarning: overflow encountered in multiply\n",
      "  sqr = np.multiply(arr, arr, out=arr)\n"
     ]
    },
    {
     "name": "stdout",
     "output_type": "stream",
     "text": [
      "MAE: 18.931192249156364\n",
      "STD: 13.886996890845678\n"
     ]
    },
    {
     "data": {
      "image/png": "[encoded data removed]",
      "text/plain": [
       "<Figure size 432x288 with 1 Axes>"
      ]
     },
     "metadata": {
      "needs_background": "light"
     },
     "output_type": "display_data"
    }
   ],
   "source": [
    "Filename='./BPPPG/features.csv'\n",
    "benchmark_name = 'Hasanzadeh_2019'\n",
    "\n",
    "# BP = 'dia'\n",
    "BP = 'sys'\n",
    "\n",
    "if BP=='sys':\n",
    "    target = 4\n",
    "if BP=='dia':\n",
    "    target = 5\n",
    "\n",
    "# Reading extracted features file    \n",
    "df = pd.read_csv(Filename,error_bad_lines=False,header=None)\n",
    "# Fill NANs with Means of columns\n",
    "df.replace([np.inf, -np.inf],np.nan, inplace=True)\n",
    "df.fillna(df.mean(),inplace=True)\n",
    "df = df.reset_index(drop=True)\n",
    "\n",
    "df.drop(df[df[4] < 90].index, inplace=True)\n",
    "df.drop(df[df[5] < 40].index, inplace=True)\n",
    "df.drop(df[df[10] < 50].index, inplace=True)\n",
    "\n",
    "df.drop(df[df[4] > 200].index, inplace=True)\n",
    "df.drop(df[df[5] > 100].index, inplace=True)\n",
    "df.drop(df[df[10] > 140].index, inplace=True)\n",
    "\n",
    "k_fold = 10\n",
    "fold_size = int(len(df)/k_fold)\n",
    "err = []\n",
    "results = []\n",
    "reals = []\n",
    "allerrs = []\n",
    "\n",
    "models = [RandomForestRegressor(n_jobs=4,n_estimators=100), \n",
    "#           AdaBoostRegressor(n_estimators=200),\n",
    "#           LinearRegression(n_jobs=4),\n",
    "#           DecisionTreeRegressor()\n",
    "         ]\n",
    "model_names = ['RandomForest', 'AdaBoost', 'Linear', 'DecisionTree']\n",
    "\n",
    "for m in range(len(models)):\n",
    "    for i in range(0,k_fold):\n",
    "        trainData = df.loc[0:i * fold_size]\n",
    "        trainData = trainData.append(df.loc[(i+1) * fold_size:])  \n",
    "        testData = df.loc[i * fold_size:(i+1) * fold_size]\n",
    "        trainData = trainData[[ss for ss in range(0,np.shape(trainData)[1]-1) if (ss not in [0,1,2,3,6,7,8,9,10] or ss== target)]]\n",
    "        testData = testData[[ss for ss in range(0,np.shape(testData)[1]-1) if (ss not in [0,1,2,3,6,7,8,9,10] or ss == target)]]  \n",
    "\n",
    "        trainFeatures = np.array(trainData[[ss for ss in range(11,np.shape(trainData)[1]-1) if ss not in [target]]]).astype(np.float32)\n",
    "\n",
    "        trainFeatures[trainFeatures == np.inf] = 0\n",
    "        trainLabels = np.array(trainData[target]).astype(np.float32)\n",
    "\n",
    "        testFeatures = np.array(testData[[ss for ss in range(11,np.shape(testData)[1]-1) if ss not in [target]]]).astype(np.float32)\n",
    "        testFeatures[testFeatures == np.inf] = 0\n",
    "        testLabels = np.array(testData[target]).astype(np.float32)\n",
    "\n",
    "        scaler = preprocessing.StandardScaler().fit(trainFeatures)\n",
    "        trainFeatures = scaler.transform(trainFeatures) \n",
    "        testFeatures = scaler.transform(testFeatures)    \n",
    "\n",
    "        model = models[m]\n",
    "        model.fit(trainFeatures,trainLabels)\n",
    "        result = model.predict(testFeatures) \n",
    "        reals.extend(testLabels)\n",
    "        results.extend(result)\n",
    "\n",
    "        err.append([i, np.mean(np.mean(np.abs(np.array(result) - np.array(testLabels))))])    \n",
    "        allerrs.extend(np.abs(np.array(result) - np.array(testLabels)))\n",
    "    errs = [e[1] for e in err]\n",
    "    print('MAE: {}'.format(np.mean(allerrs)))\n",
    "    print('STD: {}'.format(np.std(allerrs)))\n",
    "\n",
    "    alldata_real = np.array(reals)\n",
    "    alldata_result = np.array(results)\n",
    "    #\n",
    "    corrcoef = np.corrcoef(alldata_real,alldata_result)[1][0]       \n",
    "    errsDetails = (np.mean(np.abs(alldata_result-alldata_real)),np.std(np.abs(alldata_result-alldata_real)))\n",
    "    samples = random.sample(range(len(alldata_real)), int(len(alldata_real)/10))\n",
    "    s45 = random.sample(range(len(alldata_real)), len(alldata_real))\n",
    "    fit = np.polyfit(alldata_real,alldata_result,1)\n",
    "    fit_fn = np.poly1d(fit) \n",
    "    plt.figure()    \n",
    "    plt.scatter(alldata_real[[i for i in samples]],alldata_result[[i for i in samples]],s=10,c='k')\n",
    "    plt.plot(alldata_real, fit_fn(alldata_real), '-k')\n",
    "    plt.title(model_names[m] + ', Regression Plot (r={})'.format(np.round(corrcoef,2)))\n",
    "    plt.xlabel('Target (mmHg)')\n",
    "    plt.ylabel('Estimate (mmHg)')\n",
    "    plt.savefig(model_names[m] + '_' + BP + '_' + model_names[m] + '.png')"
   ]
  },
  {
   "cell_type": "code",
   "execution_count": 8,
   "id": "e9aa5bb0",
   "metadata": {},
   "outputs": [
    {
     "data": {
      "text/plain": [
       "11960"
      ]
     },
     "execution_count": 8,
     "metadata": {},
     "output_type": "execute_result"
    }
   ],
   "source": [
    "Filename='./BPPPG/features.csv'\n",
    "len(pd.read_csv(Filename))"
   ]
  },
  {
   "cell_type": "code",
   "execution_count": 9,
   "id": "765511f6",
   "metadata": {},
   "outputs": [
    {
     "data": {
      "text/plain": [
       "10247"
      ]
     },
     "execution_count": 9,
     "metadata": {},
     "output_type": "execute_result"
    }
   ],
   "source": [
    "Filename='./BPPPG/features_original.csv'\n",
    "len(pd.read_csv(Filename))"
   ]
  },
  {
   "cell_type": "code",
   "execution_count": null,
   "id": "754003b0",
   "metadata": {},
   "outputs": [],
   "source": []
  }
 ],
 "metadata": {
  "kernelspec": {
   "display_name": "Python 3",
   "language": "python",
   "name": "python3"
  },
  "language_info": {
   "codemirror_mode": {
    "name": "ipython",
    "version": 3
   },
   "file_extension": ".py",
   "mimetype": "text/x-python",
   "name": "python",
   "nbconvert_exporter": "python",
   "pygments_lexer": "ipython3",
   "version": "3.8.3"
  }
 },
 "nbformat": 4,
 "nbformat_minor": 5
}
