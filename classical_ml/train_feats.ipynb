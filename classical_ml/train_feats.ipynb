{
 "cells": [
  {
   "cell_type": "code",
   "execution_count": 1,
   "id": "db816e07",
   "metadata": {
    "scrolled": true
   },
   "outputs": [
    {
     "name": "stdout",
     "output_type": "stream",
     "text": [
      "\u001b[33mWARNING: The directory '/root/.cache/pip' or its parent directory is not owned or is not writable by the current user. The cache has been disabled. Check the permissions and owner of that directory. If executing pip with sudo, you may want sudo's -H flag.\u001b[0m\n",
      "Requirement already satisfied: seaborn in /opt/conda/lib/python3.8/site-packages (0.12.0)\n",
      "Requirement already satisfied: numpy>=1.17 in /opt/conda/lib/python3.8/site-packages (from seaborn) (1.19.2)\n",
      "Requirement already satisfied: pandas>=0.25 in /opt/conda/lib/python3.8/site-packages (from seaborn) (1.2.4)\n",
      "Requirement already satisfied: matplotlib>=3.1 in /opt/conda/lib/python3.8/site-packages (from seaborn) (3.3.4)\n",
      "Requirement already satisfied: kiwisolver>=1.0.1 in /opt/conda/lib/python3.8/site-packages (from matplotlib>=3.1->seaborn) (1.3.1)\n",
      "Requirement already satisfied: pyparsing!=2.0.4,!=2.1.2,!=2.1.6,>=2.0.3 in /opt/conda/lib/python3.8/site-packages (from matplotlib>=3.1->seaborn) (2.4.7)\n",
      "Requirement already satisfied: cycler>=0.10 in /opt/conda/lib/python3.8/site-packages (from matplotlib>=3.1->seaborn) (0.10.0)\n",
      "Requirement already satisfied: python-dateutil>=2.1 in /opt/conda/lib/python3.8/site-packages (from matplotlib>=3.1->seaborn) (2.8.1)\n",
      "Requirement already satisfied: pillow>=6.2.0 in /opt/conda/lib/python3.8/site-packages (from matplotlib>=3.1->seaborn) (8.0.0)\n",
      "Requirement already satisfied: six in /opt/conda/lib/python3.8/site-packages (from cycler>=0.10->matplotlib>=3.1->seaborn) (1.14.0)\n",
      "Requirement already satisfied: pytz>=2017.3 in /opt/conda/lib/python3.8/site-packages (from pandas>=0.25->seaborn) (2020.1)\n",
      "\u001b[33mWARNING: The directory '/root/.cache/pip' or its parent directory is not owned or is not writable by the current user. The cache has been disabled. Check the permissions and owner of that directory. If executing pip with sudo, you may want sudo's -H flag.\u001b[0m\n",
      "Requirement already satisfied: dill in /opt/conda/lib/python3.8/site-packages (0.3.5.1)\n"
     ]
    }
   ],
   "source": [
    "!pip install seaborn\n",
    "!pip install dill"
   ]
  },
  {
   "cell_type": "code",
   "execution_count": 2,
   "id": "c8d861dc",
   "metadata": {},
   "outputs": [],
   "source": [
    "import pandas as pd\n",
    "import numpy as np\n",
    "import random\n",
    "from tqdm import tqdm\n",
    "import seaborn as sns\n",
    "import matplotlib.pyplot as plt\n",
    "import dill as pickle\n",
    "\n",
    "from scipy.stats import pearsonr\n",
    "from scipy import stats\n",
    "from sklearn.ensemble import RandomForestRegressor, AdaBoostRegressor\n",
    "from sklearn.linear_model import LinearRegression\n",
    "from sklearn import preprocessing\n",
    "from sklearn.tree import DecisionTreeRegressor"
   ]
  },
  {
   "cell_type": "code",
   "execution_count": 3,
   "id": "2ca916cf",
   "metadata": {},
   "outputs": [],
   "source": [
    "class options:\n",
    "    def __init__(self):\n",
    "#         self.datapath = './third_party/BPPPG/f_features_1234.csv'\n",
    "        self.dataset_name = 'vitaldb'\n",
    "        self.filter_name = 'zhang21'\n",
    "        self.alg_name = 'hasandazeh19'\n",
    "        self.datapath = '../results/features/features_' + self.dataset_name + '_' + self.filter_name + '_' + self.alg_name + '.csv'\n",
    "        \n",
    "        if ('provided' in self.dataset_name) or ('features' in self.dataset_name):\n",
    "            self.sbp_col = '4'\n",
    "            self.dbp_col = '5'\n",
    "            self.feature_cols = np.arange(11, 101).astype(str)\n",
    "        else:\n",
    "            self.sbp_col = 'SBP'\n",
    "            self.dbp_col = 'DBP'\n",
    "\n",
    "            df = pd.read_csv(self.datapath)\n",
    "            self.feature_cols = df.columns[(df.columns != 'SBP') & (df.columns != 'DBP') & \n",
    "                                           (df.columns != 'MBP') & (df.columns != 'segment_num') \n",
    "                                           & (df.columns != 'subject_id')\n",
    "                                          ]\n",
    "\n",
    "        self.k_folds = 10\n",
    "        self.scaler = preprocessing.StandardScaler()\n",
    "        self.sbp_models = [RandomForestRegressor(n_jobs=4,n_estimators=100), \n",
    "#                            AdaBoostRegressor(n_estimators=200),\n",
    "#                            LinearRegression(n_jobs=4),\n",
    "#                            DecisionTreeRegressor()\n",
    "                          ]\n",
    "        self.sbp_model_names = ['RandomForest', \n",
    "#                                 'AdaBoost', 'Linear', 'DecisionTree'\n",
    "                               ]\n",
    "        self.dbp_models = [RandomForestRegressor(n_jobs=4,n_estimators=100), \n",
    "                           AdaBoostRegressor(n_estimators=200),\n",
    "                           LinearRegression(n_jobs=4),\n",
    "                           DecisionTreeRegressor()\n",
    "                          ]\n",
    "        self.dbp_model_names = ['RandomForest', \n",
    "#                                 'AdaBoost', 'Linear', 'DecisionTree'\n",
    "                               ]"
   ]
  },
  {
   "cell_type": "code",
   "execution_count": 4,
   "id": "ab5db830",
   "metadata": {
    "scrolled": true
   },
   "outputs": [
    {
     "name": "stderr",
     "output_type": "stream",
     "text": [
      "  0%|          | 0/1 [00:00<?, ?it/s]\n",
      "  0%|          | 0/9 [00:00<?, ?it/s]\u001b[A/opt/conda/lib/python3.8/site-packages/sklearn/utils/extmath.py:1000: RuntimeWarning: overflow encountered in square\n",
      "  temp **= 2\n",
      "/opt/conda/lib/python3.8/site-packages/sklearn/utils/extmath.py:1006: RuntimeWarning: overflow encountered in square\n",
      "  new_unnormalized_variance -= correction**2 / new_sample_count\n",
      "/opt/conda/lib/python3.8/site-packages/sklearn/utils/extmath.py:1006: RuntimeWarning: invalid value encountered in subtract\n",
      "  new_unnormalized_variance -= correction**2 / new_sample_count\n",
      "/opt/conda/lib/python3.8/site-packages/sklearn/preprocessing/_data.py:84: RuntimeWarning: overflow encountered in square\n",
      "  upper_bound = n_samples * eps * var + (n_samples * mean * eps) ** 2\n"
     ]
    },
    {
     "name": "stdout",
     "output_type": "stream",
     "text": [
      "Training Models: RandomForest for SBP and RandomForest for DBP\n",
      "Training fold number 1\n"
     ]
    },
    {
     "name": "stderr",
     "output_type": "stream",
     "text": [
      "\n",
      " 11%|█         | 1/9 [00:09<01:15,  9.42s/it]\u001b[A/opt/conda/lib/python3.8/site-packages/sklearn/utils/extmath.py:1000: RuntimeWarning: overflow encountered in square\n",
      "  temp **= 2\n",
      "/opt/conda/lib/python3.8/site-packages/sklearn/utils/extmath.py:1006: RuntimeWarning: overflow encountered in square\n",
      "  new_unnormalized_variance -= correction**2 / new_sample_count\n",
      "/opt/conda/lib/python3.8/site-packages/sklearn/utils/extmath.py:1006: RuntimeWarning: invalid value encountered in subtract\n",
      "  new_unnormalized_variance -= correction**2 / new_sample_count\n",
      "/opt/conda/lib/python3.8/site-packages/sklearn/preprocessing/_data.py:84: RuntimeWarning: overflow encountered in square\n",
      "  upper_bound = n_samples * eps * var + (n_samples * mean * eps) ** 2\n"
     ]
    },
    {
     "name": "stdout",
     "output_type": "stream",
     "text": [
      "Training fold number 2\n"
     ]
    },
    {
     "name": "stderr",
     "output_type": "stream",
     "text": [
      "\n",
      " 22%|██▏       | 2/9 [00:18<01:05,  9.38s/it]\u001b[A/opt/conda/lib/python3.8/site-packages/sklearn/utils/extmath.py:1000: RuntimeWarning: overflow encountered in square\n",
      "  temp **= 2\n",
      "/opt/conda/lib/python3.8/site-packages/sklearn/utils/extmath.py:1006: RuntimeWarning: overflow encountered in square\n",
      "  new_unnormalized_variance -= correction**2 / new_sample_count\n",
      "/opt/conda/lib/python3.8/site-packages/sklearn/utils/extmath.py:1006: RuntimeWarning: invalid value encountered in subtract\n",
      "  new_unnormalized_variance -= correction**2 / new_sample_count\n",
      "/opt/conda/lib/python3.8/site-packages/sklearn/preprocessing/_data.py:84: RuntimeWarning: overflow encountered in square\n",
      "  upper_bound = n_samples * eps * var + (n_samples * mean * eps) ** 2\n"
     ]
    },
    {
     "name": "stdout",
     "output_type": "stream",
     "text": [
      "Training fold number 3\n"
     ]
    },
    {
     "name": "stderr",
     "output_type": "stream",
     "text": [
      "\n",
      " 33%|███▎      | 3/9 [00:28<00:56,  9.38s/it]\u001b[A/opt/conda/lib/python3.8/site-packages/sklearn/utils/extmath.py:1000: RuntimeWarning: overflow encountered in square\n",
      "  temp **= 2\n",
      "/opt/conda/lib/python3.8/site-packages/sklearn/utils/extmath.py:1006: RuntimeWarning: overflow encountered in square\n",
      "  new_unnormalized_variance -= correction**2 / new_sample_count\n",
      "/opt/conda/lib/python3.8/site-packages/sklearn/utils/extmath.py:1006: RuntimeWarning: invalid value encountered in subtract\n",
      "  new_unnormalized_variance -= correction**2 / new_sample_count\n",
      "/opt/conda/lib/python3.8/site-packages/sklearn/preprocessing/_data.py:84: RuntimeWarning: overflow encountered in square\n",
      "  upper_bound = n_samples * eps * var + (n_samples * mean * eps) ** 2\n"
     ]
    },
    {
     "name": "stdout",
     "output_type": "stream",
     "text": [
      "Training fold number 4\n"
     ]
    },
    {
     "name": "stderr",
     "output_type": "stream",
     "text": [
      "\n",
      " 44%|████▍     | 4/9 [00:37<00:47,  9.41s/it]\u001b[A/opt/conda/lib/python3.8/site-packages/sklearn/utils/extmath.py:1000: RuntimeWarning: overflow encountered in square\n",
      "  temp **= 2\n",
      "/opt/conda/lib/python3.8/site-packages/sklearn/utils/extmath.py:1006: RuntimeWarning: overflow encountered in square\n",
      "  new_unnormalized_variance -= correction**2 / new_sample_count\n",
      "/opt/conda/lib/python3.8/site-packages/sklearn/utils/extmath.py:1006: RuntimeWarning: invalid value encountered in subtract\n",
      "  new_unnormalized_variance -= correction**2 / new_sample_count\n",
      "/opt/conda/lib/python3.8/site-packages/sklearn/preprocessing/_data.py:84: RuntimeWarning: overflow encountered in square\n",
      "  upper_bound = n_samples * eps * var + (n_samples * mean * eps) ** 2\n"
     ]
    },
    {
     "name": "stdout",
     "output_type": "stream",
     "text": [
      "Training fold number 5\n"
     ]
    },
    {
     "name": "stderr",
     "output_type": "stream",
     "text": [
      "\n",
      " 56%|█████▌    | 5/9 [00:46<00:37,  9.38s/it]\u001b[A/opt/conda/lib/python3.8/site-packages/sklearn/utils/extmath.py:1000: RuntimeWarning: overflow encountered in square\n",
      "  temp **= 2\n",
      "/opt/conda/lib/python3.8/site-packages/sklearn/utils/extmath.py:1006: RuntimeWarning: overflow encountered in square\n",
      "  new_unnormalized_variance -= correction**2 / new_sample_count\n",
      "/opt/conda/lib/python3.8/site-packages/sklearn/utils/extmath.py:1006: RuntimeWarning: invalid value encountered in subtract\n",
      "  new_unnormalized_variance -= correction**2 / new_sample_count\n",
      "/opt/conda/lib/python3.8/site-packages/sklearn/preprocessing/_data.py:84: RuntimeWarning: overflow encountered in square\n",
      "  upper_bound = n_samples * eps * var + (n_samples * mean * eps) ** 2\n"
     ]
    },
    {
     "name": "stdout",
     "output_type": "stream",
     "text": [
      "Training fold number 6\n"
     ]
    },
    {
     "name": "stderr",
     "output_type": "stream",
     "text": [
      "\n",
      " 67%|██████▋   | 6/9 [00:56<00:28,  9.45s/it]\u001b[A/opt/conda/lib/python3.8/site-packages/sklearn/utils/extmath.py:1000: RuntimeWarning: overflow encountered in square\n",
      "  temp **= 2\n",
      "/opt/conda/lib/python3.8/site-packages/sklearn/utils/extmath.py:1006: RuntimeWarning: overflow encountered in square\n",
      "  new_unnormalized_variance -= correction**2 / new_sample_count\n",
      "/opt/conda/lib/python3.8/site-packages/sklearn/utils/extmath.py:1006: RuntimeWarning: invalid value encountered in subtract\n",
      "  new_unnormalized_variance -= correction**2 / new_sample_count\n",
      "/opt/conda/lib/python3.8/site-packages/sklearn/preprocessing/_data.py:84: RuntimeWarning: overflow encountered in square\n",
      "  upper_bound = n_samples * eps * var + (n_samples * mean * eps) ** 2\n"
     ]
    },
    {
     "name": "stdout",
     "output_type": "stream",
     "text": [
      "Training fold number 7\n"
     ]
    },
    {
     "name": "stderr",
     "output_type": "stream",
     "text": [
      "\n",
      " 78%|███████▊  | 7/9 [01:05<00:18,  9.41s/it]\u001b[A/opt/conda/lib/python3.8/site-packages/sklearn/utils/extmath.py:1000: RuntimeWarning: overflow encountered in square\n",
      "  temp **= 2\n",
      "/opt/conda/lib/python3.8/site-packages/sklearn/utils/extmath.py:1006: RuntimeWarning: overflow encountered in square\n",
      "  new_unnormalized_variance -= correction**2 / new_sample_count\n",
      "/opt/conda/lib/python3.8/site-packages/sklearn/utils/extmath.py:1006: RuntimeWarning: invalid value encountered in subtract\n",
      "  new_unnormalized_variance -= correction**2 / new_sample_count\n",
      "/opt/conda/lib/python3.8/site-packages/sklearn/preprocessing/_data.py:84: RuntimeWarning: overflow encountered in square\n",
      "  upper_bound = n_samples * eps * var + (n_samples * mean * eps) ** 2\n"
     ]
    },
    {
     "name": "stdout",
     "output_type": "stream",
     "text": [
      "Training fold number 8\n"
     ]
    },
    {
     "name": "stderr",
     "output_type": "stream",
     "text": [
      "\n",
      " 89%|████████▉ | 8/9 [01:15<00:09,  9.41s/it]\u001b[A/opt/conda/lib/python3.8/site-packages/sklearn/utils/extmath.py:1000: RuntimeWarning: overflow encountered in square\n",
      "  temp **= 2\n",
      "/opt/conda/lib/python3.8/site-packages/sklearn/utils/extmath.py:1006: RuntimeWarning: overflow encountered in square\n",
      "  new_unnormalized_variance -= correction**2 / new_sample_count\n",
      "/opt/conda/lib/python3.8/site-packages/sklearn/utils/extmath.py:1006: RuntimeWarning: invalid value encountered in subtract\n",
      "  new_unnormalized_variance -= correction**2 / new_sample_count\n",
      "/opt/conda/lib/python3.8/site-packages/sklearn/preprocessing/_data.py:84: RuntimeWarning: overflow encountered in square\n",
      "  upper_bound = n_samples * eps * var + (n_samples * mean * eps) ** 2\n"
     ]
    },
    {
     "name": "stdout",
     "output_type": "stream",
     "text": [
      "Training fold number 9\n"
     ]
    },
    {
     "name": "stderr",
     "output_type": "stream",
     "text": [
      "\n",
      "100%|██████████| 9/9 [01:24<00:00,  9.43s/it]\u001b[A\n",
      "100%|██████████| 1/1 [01:24<00:00, 84.84s/it]\n"
     ]
    }
   ],
   "source": [
    "opt = options()\n",
    "df = pd.read_csv(opt.datapath)\n",
    "\n",
    "# make changes from provided features.csv on github\n",
    "# available at https://github.com/navidhasanzadeh/BPPPG\n",
    "# features extracted from script have been filtered, so this part is unneeded\n",
    "if ('provided' in opt.datapath) or ('features' in opt.dataset_name):\n",
    "    df = df.drop(['0','1','2','3','6','7','8','9'], axis=1)\n",
    "    df = df.replace([np.inf, -np.inf],np.nan)\n",
    "    df = df.fillna(df.mean())\n",
    "    df = df.reset_index(drop=True)\n",
    "    df = df.drop(df[df['4'] < 90].index)\n",
    "    df = df.drop(df[df['5'] < 40].index)\n",
    "    df = df.drop(df[df['10'] < 50].index)\n",
    "    df = df.drop(df[df['4'] > 200].index)\n",
    "    df = df.drop(df[df['5'] > 100].index)\n",
    "    df = df.drop(df[df['10'] > 140].index)\n",
    "    df = df.drop(['10'], axis=1)\n",
    "else:\n",
    "    df = df.drop(df[df[opt.sbp_col] < 90].index)\n",
    "    df = df.drop(df[df[opt.dbp_col] < 40].index)\n",
    "    df = df.drop(df[df[opt.sbp_col] > 200].index)\n",
    "    df = df.drop(df[df[opt.dbp_col] > 100].index)\n",
    "feature_df = df.copy()\n",
    "\n",
    "\n",
    "fold_size = int(len(feature_df)/opt.k_folds)\n",
    "sbp_std = feature_df[opt.sbp_col].std()\n",
    "dbp_std = feature_df[opt.dbp_col].std()\n",
    "sbp_model_results = {}\n",
    "dbp_model_results = {}\n",
    "for m in tqdm(range(len(opt.sbp_models))):\n",
    "    sbp_ests = np.array([])\n",
    "    sbp_gts = np.array([])\n",
    "    sbp_maes = np.array([])\n",
    "    sbp_mes = np.array([])\n",
    "    sbp_raw_model_result = {}\n",
    "    dbp_ests = np.array([])\n",
    "    dbp_gts = np.array([])\n",
    "    dbp_maes = np.array([])\n",
    "    dbp_mes = np.array([])\n",
    "    dbp_raw_model_result = {}\n",
    "    print('Training Models: ' + opt.sbp_model_names[m] + ' for SBP and ' + opt.sbp_model_names[m] + ' for DBP')\n",
    "    for i in tqdm(range(1, opt.k_folds)):\n",
    "        print('Training ' + 'fold number ' + str(i))\n",
    "        trainData = feature_df.loc[0:i*fold_size]\n",
    "        trainData = trainData.append(feature_df.loc[(i+1)*fold_size:])\n",
    "        testData = feature_df.loc[i*fold_size:(i+1)*fold_size]\n",
    "        Xy_cols = np.append([opt.sbp_col, opt.dbp_col], opt.feature_cols)\n",
    "        trainData = trainData[Xy_cols]\n",
    "        testData = testData[Xy_cols]\n",
    "\n",
    "        X_train = np.array(trainData[opt.feature_cols])\n",
    "        y_train = np.array(trainData[[opt.sbp_col, opt.dbp_col]])\n",
    "        X_test = np.array(testData[opt.feature_cols])\n",
    "        y_test = np.array(testData[[opt.sbp_col, opt.dbp_col]])    \n",
    "\n",
    "        scaler = opt.scaler.fit(X_train)\n",
    "        X_train = scaler.transform(X_train) \n",
    "        X_test = scaler.transform(X_test)   \n",
    "        \n",
    "        X_train[np.isinf(X_train)] = 0\n",
    "        X_train[np.isnan(X_train)] = 0\n",
    "        X_test[np.isinf(X_test)] = 0\n",
    "        X_test[np.isnan(X_test)] = 0\n",
    "\n",
    "        sbp_model = opt.sbp_models[m]\n",
    "        sbp_model.fit(X_train, y_train[:, 0])\n",
    "        sbp_est = sbp_model.predict(X_test) \n",
    "        dbp_model = opt.dbp_models[m]\n",
    "        dbp_model.fit(X_train, y_train[:, 1])\n",
    "        dbp_est = dbp_model.predict(X_test)\n",
    "        \n",
    "        sbp_gts = np.append(sbp_gts, y_test[:, 0])\n",
    "        sbp_ests = np.append(sbp_ests, sbp_est)\n",
    "        sbp_mes = np.append(sbp_mes, sbp_est - y_test[:, 0])\n",
    "        dbp_gts = np.append(dbp_gts, y_test[:, 1])\n",
    "        dbp_ests = np.append(dbp_ests, dbp_est)\n",
    "        dbp_mes = np.append(dbp_mes, dbp_est - y_test[:, 1])\n",
    "    \n",
    "    sbp_model_result = {}\n",
    "    sbp_model_result['raw ests'] = sbp_ests\n",
    "    sbp_model_result['raw gts'] = sbp_gts\n",
    "    sbp_model_result['bias'] = (sbp_ests - sbp_gts).mean()\n",
    "    sbp_model_result['err std'] = (sbp_ests - sbp_gts).std()\n",
    "    sbp_model_result['ED'] = sbp_std/(sbp_ests - sbp_gts).std()\n",
    "    sbp_model_result['dist std'] = sbp_std\n",
    "    sbp_model_results[opt.sbp_model_names[m]] = sbp_model_result\n",
    "    dbp_model_result = {}\n",
    "    dbp_model_result['raw ests'] = dbp_ests\n",
    "    dbp_model_result['raw gts'] = dbp_gts\n",
    "    dbp_model_result['bias'] = (dbp_ests - dbp_gts).mean()\n",
    "    dbp_model_result['err std'] = (dbp_ests - dbp_gts).std()\n",
    "    dbp_model_result['ED'] = dbp_std/(dbp_ests - dbp_gts).std()\n",
    "    sbp_model_result['dist std'] = sbp_std\n",
    "    dbp_model_results[opt.dbp_model_names[m]] = dbp_model_result"
   ]
  },
  {
   "cell_type": "code",
   "execution_count": 5,
   "id": "2c616b89",
   "metadata": {},
   "outputs": [],
   "source": [
    "pickle_dict = {'sbp': sbp_model_results, 'dbp': dbp_model_results, 'opt': opt}\n",
    "with open('../results/training/' + opt.dataset_name + '_' + opt.filter_name + '_' + opt.alg_name + '.pickle', 'wb') as f:\n",
    "    pickle.dump(pickle_dict, f, protocol=pickle.HIGHEST_PROTOCOL)"
   ]
  },
  {
   "cell_type": "code",
   "execution_count": null,
   "id": "2f7aa314",
   "metadata": {},
   "outputs": [],
   "source": []
  }
 ],
 "metadata": {
  "kernelspec": {
   "display_name": "Python 3",
   "language": "python",
   "name": "python3"
  },
  "language_info": {
   "codemirror_mode": {
    "name": "ipython",
    "version": 3
   },
   "file_extension": ".py",
   "mimetype": "text/x-python",
   "name": "python",
   "nbconvert_exporter": "python",
   "pygments_lexer": "ipython3",
   "version": "3.8.3"
  }
 },
 "nbformat": 4,
 "nbformat_minor": 5
}
