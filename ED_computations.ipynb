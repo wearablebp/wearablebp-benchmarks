{
 "cells": [
  {
   "cell_type": "markdown",
   "id": "150c150b",
   "metadata": {},
   "source": [
    "This notebook contains the code to determine the minimum Explained Deviation (ED) based on the AAMI/ANSI/ISO Standards. To do this, we subsample the [PPG-BP dataset](https://figshare.com/articles/dataset/PPG-BP_Database_zip/5459299) based on weights derived from iterative proportional fitting."
   ]
  },
  {
   "cell_type": "code",
   "execution_count": 2,
   "id": "ae8e60cf",
   "metadata": {},
   "outputs": [],
   "source": [
    "import numpy as np\n",
    "import matplotlib.pyplot as plt\n",
    "import pandas as pd\n",
    "from ipfn import ipfn"
   ]
  },
  {
   "cell_type": "code",
   "execution_count": 3,
   "id": "61310dcc",
   "metadata": {},
   "outputs": [],
   "source": [
    "data = pd.read_excel('../datasets/PPG-BP/PPG-BP dataset.xlsx', header=1)"
   ]
  },
  {
   "cell_type": "code",
   "execution_count": 4,
   "id": "6b878a90",
   "metadata": {},
   "outputs": [],
   "source": [
    "subj_ids = data['subject_ID'].values\n",
    "SBP = data['Systolic Blood Pressure(mmHg)'].values\n",
    "DBP = data['Diastolic Blood Pressure(mmHg)'].values\n",
    "SBP_bounds = [SBP <= 100, (SBP > 100) & (SBP < 140), (SBP >= 140) & (SBP < 160), SBP >= 160]\n",
    "DBP_bounds = [DBP <= 60, (DBP > 60) & (DBP < 85), (DBP >= 85) & (DBP < 100), DBP >= 100]\n",
    "bound_marginals = [0.1, 0.6, 0.2, 0.1]"
   ]
  },
  {
   "cell_type": "code",
   "execution_count": 5,
   "id": "c60e7d16",
   "metadata": {},
   "outputs": [],
   "source": [
    "sbp_stds = []\n",
    "dbp_stds = []\n",
    "\n",
    "for iter in range(10000):  \n",
    "    results_grid_bounds = np.zeros((len(SBP_bounds), len(SBP_bounds)))\n",
    "    for i in range(len(SBP_bounds)):\n",
    "        for j in range(len(DBP_bounds)):\n",
    "            results_grid_bounds[i, j] = np.sum(SBP_bounds[i] & DBP_bounds[j])\n",
    "#     pd.DataFrame(results_grid_bounds/np.sum(results_grid_bounds), \n",
    "#                  columns=['SBP <= 100', '(SBP > 100) & (SBP < 140)', '(SBP >= 140) & (SBP < 160)', 'SBP >= 160'], \n",
    "#                  index=['DBP <= 60', '(DBP > 60) & (DBP < 85)', '(DBP >= 85) & (DBP < 100)', 'DBP >= 100'])\n",
    "\n",
    "    IPF = ipfn.ipfn(results_grid_bounds, [bound_marginals, bound_marginals], [[0], [1]])\n",
    "    m = IPF.iteration()\n",
    "    pd.DataFrame(m, \n",
    "                 columns=['SBP <= 100', '(SBP > 100) & (SBP < 140)', '(SBP >= 140) & (SBP < 160)', 'SBP >= 160'], \n",
    "                 index=['DBP <= 60', '(DBP > 60) & (DBP < 85)', '(DBP >= 85) & (DBP < 100)', 'DBP >= 100'])\n",
    "\n",
    "    pr = np.zeros((len(SBP),))\n",
    "    for i in range(len(SBP_bounds)):\n",
    "        for j in range(len(DBP_bounds)):\n",
    "            if np.sum(SBP_bounds[i] & DBP_bounds[j]) > 0:\n",
    "                pr += m[i, j]*(SBP_bounds[i] & DBP_bounds[j])/np.sum(SBP_bounds[i] & DBP_bounds[j])\n",
    "    samples = np.random.choice(np.arange(0, len(data)), size=(85,), replace=False, p=pr)\n",
    "\n",
    "\n",
    "    SBP_samp = SBP[samples]\n",
    "    DBP_samp = DBP[samples]\n",
    "    SBP_conds = [SBP_samp <= 100, SBP_samp >= 160, SBP_samp >= 140]\n",
    "    DBP_conds = [DBP_samp <= 60, DBP_samp >= 100, DBP_samp >= 85]\n",
    "    marginals = [0.05, 0.05, 0.2]\n",
    "\n",
    "    results_grid = np.zeros((len(SBP_conds), len(SBP_conds)))\n",
    "    for i in range(len(SBP_conds)):\n",
    "        for j in range(len(DBP_conds)):\n",
    "            results_grid[i, j] = np.sum(SBP_conds[i] & DBP_conds[j])\n",
    "#     pd.DataFrame(results_grid/len(SBP_samp),\n",
    "#                  columns=['SBP <= 100', 'SBP >= 160' , 'SBP >= 140'], \n",
    "#                  index=['DBP <= 60', 'DBP >= 100', 'DBP >= 85'])\n",
    "\n",
    "    if (np.sum(results_grid/len(SBP_samp), axis=0) > marginals).all() & (np.sum(results_grid/len(SBP_samp), axis=1) > marginals).all():\n",
    "        sbp_stds.append(SBP_samp.std())\n",
    "        dbp_stds.append(DBP_samp.std())"
   ]
  },
  {
   "cell_type": "code",
   "execution_count": 6,
   "id": "ebfcd9d5",
   "metadata": {},
   "outputs": [
    {
     "data": {
      "text/plain": [
       "Text(0, 0.5, 'Count')"
      ]
     },
     "execution_count": 6,
     "metadata": {},
     "output_type": "execute_result"
    },
    {
     "data": {
      "image/png": "[encoded data removed]",
      "text/plain": [
       "<Figure size 432x288 with 1 Axes>"
      ]
     },
     "metadata": {
      "needs_background": "light"
     },
     "output_type": "display_data"
    }
   ],
   "source": [
    "plt.hist(sbp_stds, label='SBP STD')\n",
    "plt.hist(dbp_stds, label='DBP STD')\n",
    "plt.xlabel('SBP or DBP')\n",
    "plt.ylabel('Count')"
   ]
  },
  {
   "cell_type": "code",
   "execution_count": 7,
   "id": "021d0ec5",
   "metadata": {},
   "outputs": [
    {
     "data": {
      "text/plain": [
       "(2.1706071655479318, 1.3865892534508795)"
      ]
     },
     "execution_count": 7,
     "metadata": {},
     "output_type": "execute_result"
    }
   ],
   "source": [
    "np.min(sbp_stds)/8, np.min(dbp_stds)/8"
   ]
  }
 ],
 "metadata": {
  "kernelspec": {
   "display_name": "Python 3",
   "language": "python",
   "name": "python3"
  },
  "language_info": {
   "codemirror_mode": {
    "name": "ipython",
    "version": 3
   },
   "file_extension": ".py",
   "mimetype": "text/x-python",
   "name": "python",
   "nbconvert_exporter": "python",
   "pygments_lexer": "ipython3",
   "version": "3.8.3"
  }
 },
 "nbformat": 4,
 "nbformat_minor": 5
}
